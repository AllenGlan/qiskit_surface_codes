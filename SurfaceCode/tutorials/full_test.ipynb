{
 "cells": [
  {
   "cell_type": "code",
   "execution_count": 3,
   "metadata": {},
   "outputs": [],
   "source": [
    "import sys\n",
    "sys.path.insert(0, '../')"
   ]
  },
  {
   "cell_type": "code",
   "execution_count": 1,
   "metadata": {},
   "outputs": [],
   "source": [
    "from qiskit.providers.aer.noise import NoiseModel\n",
    "from qiskit.providers.aer.noise.errors import pauli_error, depolarizing_error\n",
    "\n",
    "def get_noise(p_err):\n",
    "\n",
    "    error_gate1 = pauli_error([('X', p_err/2), ('Z', p_err/2), ('I', 1 - p_err)])\n",
    "    error_gate2 = error_gate1.tensor(error_gate1)\n",
    "\n",
    "    noise_model = NoiseModel()\n",
    "    noise_model.add_all_qubit_quantum_error(error_gate1, \"measure\") # measurement error is applied to measurements\n",
    "    noise_model.add_all_qubit_quantum_error(error_gate1, [\"u1\", \"u2\", \"u3\"]) # single qubit gate error is applied to x gates\n",
    "    noise_model.add_all_qubit_quantum_error(error_gate2, [\"cx\"]) # two qubit gate error is applied to cx gates\n",
    "        \n",
    "    return noise_model"
   ]
  },
  {
   "cell_type": "code",
   "execution_count": 44,
   "metadata": {},
   "outputs": [],
   "source": [
    "def process_nodes(nodes):\n",
    "    output = {\"X\": [], \"Z\": []}\n",
    "    for node in nodes:\n",
    "        if node[0] >= 0:\n",
    "            xy_sum = node[1] + node[2]\n",
    "            if xy_sum % 2 == 0:\n",
    "                output[\"X\"].append(node)\n",
    "            elif xy_sum % 2 == 1:\n",
    "                output[\"Z\"].append(node)\n",
    "\n",
    "    return output"
   ]
  },
  {
   "cell_type": "code",
   "execution_count": 46,
   "metadata": {
    "tags": []
   },
   "outputs": [
    {
     "output_type": "stream",
     "name": "stdout",
     "text": "{'101011000 00000101': 1}\n{'X': [(0, 1.5, 0.5), (0, 2.5, 1.5)], 'Z': []}\n"
    }
   ],
   "source": [
    "from qiskit import execute, Aer\n",
    "from Encoder import SurfaceCode\n",
    "\n",
    "code = SurfaceCode(3, 1)\n",
    "\n",
    "# noise_model = get_noise(0.01)\n",
    "counts = execute(code.circuit['0'], Aer.get_backend('qasm_simulator'), shots=1).result().get_counts()\n",
    "error_nodes = process_nodes(code.extract_nodes(code.process_results(counts))[0])\n",
    "\n",
    "print(counts)\n",
    "print(error_nodes)"
   ]
  },
  {
   "cell_type": "code",
   "execution_count": 55,
   "metadata": {
    "tags": []
   },
   "outputs": [
    {
     "output_type": "stream",
     "name": "stdout",
     "text": "Physical Qubit: (2.0, 1.0)\nError: X at time: 0\n{(2.0, 1.0): array([[0, 1],\n       [1, 0]])}\n"
    }
   ],
   "source": [
    "from fitters import GraphDecoder\n",
    "\n",
    "decoder = GraphDecoder(3, 1)\n",
    "\n",
    "error_graph, paths = decoder.make_error_graph(error_nodes[\"X\"], \"X\")\n",
    "matching_graph = decoder.matching_graph(error_graph,'X')\n",
    "matches = decoder.matching(matching_graph,'X')\n",
    "flips_x = decoder.calculate_qubit_flips(matches, paths,'X')\n",
    "\n",
    "error_graph, paths = decoder.make_error_graph(error_nodes[\"Z\"], \"Z\")\n",
    "matching_graph = decoder.matching_graph(error_graph,'Z')\n",
    "matches = decoder.matching(matching_graph,'Z')\n",
    "flips_z = decoder.calculate_qubit_flips(matches, paths,'Z')\n",
    "\n",
    "print(decoder.net_qubit_flips(flips_x, flips_z))"
   ]
  },
  {
   "cell_type": "code",
   "execution_count": null,
   "metadata": {},
   "outputs": [],
   "source": []
  },
  {
   "cell_type": "code",
   "execution_count": null,
   "metadata": {},
   "outputs": [],
   "source": []
  }
 ],
 "metadata": {
  "language_info": {
   "codemirror_mode": {
    "name": "ipython",
    "version": 3
   },
   "file_extension": ".py",
   "mimetype": "text/x-python",
   "name": "python",
   "nbconvert_exporter": "python",
   "pygments_lexer": "ipython3",
   "version": "3.7.7-final"
  },
  "orig_nbformat": 2,
  "kernelspec": {
   "name": "python37764bitvenvvenv7408d8b88faf4c5294f43086f1dc80f8",
   "display_name": "Python 3.7.7 64-bit ('.venv': venv)"
  }
 },
 "nbformat": 4,
 "nbformat_minor": 2
}