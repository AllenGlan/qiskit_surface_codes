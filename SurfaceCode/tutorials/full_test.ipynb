{
 "cells": [
  {
   "cell_type": "code",
   "execution_count": 1,
   "metadata": {},
   "outputs": [],
   "source": [
    "%load_ext autoreload\n",
    "%autoreload 2"
   ]
  },
  {
   "cell_type": "code",
   "execution_count": 2,
   "metadata": {},
   "outputs": [],
   "source": [
    "import sys\n",
    "sys.path.insert(0, '../')"
   ]
  },
  {
   "cell_type": "code",
   "execution_count": 3,
   "metadata": {},
   "outputs": [],
   "source": [
    "from qiskit.providers.aer.noise import NoiseModel\n",
    "from qiskit.providers.aer.noise.errors import pauli_error, depolarizing_error\n",
    "\n",
    "def get_noise(p_err):\n",
    "\n",
    "    error_gate1 = pauli_error([('X', p_err/2), ('Z', p_err/2), ('I', 1 - p_err)])\n",
    "    error_gate2 = error_gate1.tensor(error_gate1)\n",
    "\n",
    "    noise_model = NoiseModel()\n",
    "    noise_model.add_all_qubit_quantum_error(error_gate1, \"measure\") # measurement error is applied to measurements\n",
    "    noise_model.add_all_qubit_quantum_error(error_gate1, [\"u1\", \"u2\", \"u3\"]) # single qubit gate error is applied to x gates\n",
    "    noise_model.add_all_qubit_quantum_error(error_gate2, [\"cx\"]) # two qubit gate error is applied to cx gates\n",
    "        \n",
    "    return noise_model"
   ]
  },
  {
   "cell_type": "code",
   "execution_count": 4,
   "metadata": {},
   "outputs": [],
   "source": [
    "from qiskit import execute, Aer\n",
    "from Encoder import SurfaceCode\n",
    "from fitters import GraphDecoder"
   ]
  },
  {
   "cell_type": "code",
   "execution_count": 26,
   "metadata": {
    "tags": []
   },
   "outputs": [],
   "source": [
    "def full_loop(d, T):\n",
    "    code = SurfaceCode(d, T)\n",
    "    decoder = GraphDecoder(d, T)\n",
    "\n",
    "    # noise_model = get_noise(0.01)\n",
    "    counts = execute(code.circuit['0'], Aer.get_backend('qasm_simulator'), shots=1).result().get_counts()\n",
    "    X_errors, Z_errors = code.extract_nodes(code.process_results(counts))\n",
    "\n",
    "    print(\"Raw readout:\", counts)\n",
    "    print(\"Parsed X:\", X_errors)\n",
    "    print(\"Parsed Z:\", Z_errors)\n",
    "\n",
    "    X_errors = [node for node in X_errors if node[0] != -2]\n",
    "    Z_errors = [node for node in Z_errors if node[0] != -2]\n",
    "\n",
    "    if X_errors:\n",
    "        error_graph, paths = decoder.make_error_graph(X_errors, \"X\")\n",
    "        matching_graph = decoder.matching_graph(error_graph,'X')\n",
    "        matches = decoder.matching(matching_graph,'X')\n",
    "        flips_x = decoder.calculate_qubit_flips(matches, paths,'X')\n",
    "    else:\n",
    "        flips_x = {}\n",
    "\n",
    "    if Z_errors:\n",
    "        error_graph, paths = decoder.make_error_graph(Z_errors, \"Z\")\n",
    "        matching_graph = decoder.matching_graph(error_graph,'Z')\n",
    "        matches = decoder.matching(matching_graph,'Z')\n",
    "        flips_z = decoder.calculate_qubit_flips(matches, paths,'Z')\n",
    "    else:\n",
    "        flips_z = {}\n",
    "\n",
    "    print(\"----------------\")\n",
    "    print(\"Decoder results:\")\n",
    "    print(decoder.net_qubit_flips(flips_x, flips_z))"
   ]
  },
  {
   "cell_type": "code",
   "execution_count": 31,
   "metadata": {
    "tags": []
   },
   "outputs": [
    {
     "output_type": "stream",
     "name": "stdout",
     "text": "====Run 0 ====\nRaw readout: {'000110110 00000000': 1}\nParsed X: [(-2, 1, 0), (-2, 2, 0)]\nParsed Z: [(-2, 2, 0), (-2, 2, 1)]\n==========\nDecoder results:\n{}\n============= \n\n====Run 1 ====\nRaw readout: {'011101101 00000000': 1}\nParsed X: [(-2, 0, 2), (-2, 1, 0), (-2, 1, 2), (-2, 2, 0), (-2, 2, 2)]\nParsed Z: [(-2, 0, 1), (-2, 0, 2), (-2, 2, 0), (-2, 2, 2)]\n==========\nDecoder results:\n{}\n============= \n\n====Run 2 ====\nRaw readout: {'110000000 00000101': 1}\nParsed X: [(-2, 0, 0), (0, 1.5, 0.5), (0, 2.5, 1.5)]\nParsed Z: [(-2, 0, 0), (-2, 0, 1)]\n==========\nDecoder results:\nPhysical Qubit: (2.0, 1.0)\nError: X at time: 0\n{(2.0, 1.0): array([[0, 1],\n       [1, 0]])}\n============= \n\n====Run 3 ====\nRaw readout: {'101101110 00000100': 1}\nParsed X: [(-2, 0, 0), (-2, 0, 2), (-2, 1, 0), (-2, 1, 2), (-2, 2, 0), (0, 1.5, 0.5)]\nParsed Z: [(-2, 0, 0), (-2, 0, 2), (-2, 2, 0), (-2, 2, 1)]\n==========\nDecoder results:\nPhysical Qubit: (1.0, 0.0)\nError: X at time: 0\n{(1.0, 0.0): array([[0, 1],\n       [1, 0]])}\n============= \n\n====Run 4 ====\nRaw readout: {'000000000 10100100': 1}\nParsed X: [(0, -0.5, 0.5), (0, 0.5, 1.5), (0, 1.5, 0.5)]\nParsed Z: []\n==========\nDecoder results:\nPhysical Qubit: (1.0, 1.0)\nError: X at time: 0\nPhysical Qubit: (0.0, 0.0)\nError: X at time: 0\n{(1.0, 1.0): array([[0, 1],\n       [1, 0]]), (0.0, 0.0): array([[0, 1],\n       [1, 0]])}\n============= \n\n====Run 5 ====\nRaw readout: {'110000000 00100001': 1}\nParsed X: [(-2, 0, 0), (0, 0.5, 1.5), (0, 2.5, 1.5)]\nParsed Z: [(-2, 0, 0), (-2, 0, 1)]\n==========\nDecoder results:\nPhysical Qubit: (1.0, 1.0)\nError: X at time: 0\nPhysical Qubit: (2.0, 1.0)\nError: X at time: 0\n{(1.0, 1.0): array([[0, 1],\n       [1, 0]]), (2.0, 1.0): array([[0, 1],\n       [1, 0]])}\n============= \n\n====Run 6 ====\nRaw readout: {'110000011 10000101': 1}\nParsed X: [(-2, 0, 0), (-2, 2, 2), (0, -0.5, 0.5), (0, 1.5, 0.5), (0, 2.5, 1.5)]\nParsed Z: [(-2, 0, 0), (-2, 0, 1), (-2, 2, 1), (-2, 2, 2)]\n==========\nDecoder results:\nPhysical Qubit: (2.0, 1.0)\nError: X at time: 0\nPhysical Qubit: (0.0, 0.0)\nError: X at time: 0\n{(2.0, 1.0): array([[0, 1],\n       [1, 0]]), (0.0, 0.0): array([[0, 1],\n       [1, 0]])}\n============= \n\n====Run 7 ====\nRaw readout: {'011011000 00100001': 1}\nParsed X: [(-2, 0, 2), (-2, 1, 2), (0, 0.5, 1.5), (0, 2.5, 1.5)]\nParsed Z: [(-2, 0, 1), (-2, 0, 2)]\n==========\nDecoder results:\nPhysical Qubit: (1.0, 1.0)\nError: X at time: 0\nPhysical Qubit: (2.0, 1.0)\nError: X at time: 0\n{(1.0, 1.0): array([[0, 1],\n       [1, 0]]), (2.0, 1.0): array([[0, 1],\n       [1, 0]])}\n============= \n\n====Run 8 ====\nRaw readout: {'011011000 10100001': 1}\nParsed X: [(-2, 0, 2), (-2, 1, 2), (0, -0.5, 0.5), (0, 0.5, 1.5), (0, 2.5, 1.5)]\nParsed Z: [(-2, 0, 1), (-2, 0, 2)]\n==========\nDecoder results:\nPhysical Qubit: (2.0, 2.0)\nError: X at time: 0\nPhysical Qubit: (0.0, 1.0)\nError: X at time: 0\n{(2.0, 2.0): array([[0, 1],\n       [1, 0]]), (0.0, 1.0): array([[0, 1],\n       [1, 0]])}\n============= \n\n====Run 9 ====\nRaw readout: {'000110101 00100100': 1}\nParsed X: [(-2, 1, 0), (-2, 2, 0), (-2, 2, 2), (0, 0.5, 1.5), (0, 1.5, 0.5)]\nParsed Z: [(-2, 2, 0), (-2, 2, 2)]\n==========\nDecoder results:\nPhysical Qubit: (1.0, 1.0)\nError: X at time: 0\n{(1.0, 1.0): array([[0, 1],\n       [1, 0]])}\n============= \n\n"
    }
   ],
   "source": [
    "for i in range(10):\n",
    "    print(\"====Run\", i, \"====\")\n",
    "    full_loop(3, 1)\n",
    "    print(\"=============\", \"\\n\")"
   ]
  },
  {
   "cell_type": "code",
   "execution_count": null,
   "metadata": {},
   "outputs": [],
   "source": []
  }
 ],
 "metadata": {
  "language_info": {
   "codemirror_mode": {
    "name": "ipython",
    "version": 3
   },
   "file_extension": ".py",
   "mimetype": "text/x-python",
   "name": "python",
   "nbconvert_exporter": "python",
   "pygments_lexer": "ipython3",
   "version": "3.7.7-final"
  },
  "orig_nbformat": 2,
  "kernelspec": {
   "name": "python37764bitvenvvenv7408d8b88faf4c5294f43086f1dc80f8",
   "display_name": "Python 3.7.7 64-bit ('.venv': venv)"
  }
 },
 "nbformat": 4,
 "nbformat_minor": 2
}