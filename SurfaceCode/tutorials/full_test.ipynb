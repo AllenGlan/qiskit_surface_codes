{
 "cells": [
  {
   "cell_type": "code",
   "execution_count": 16,
   "metadata": {
    "tags": []
   },
   "outputs": [
    {
     "output_type": "stream",
     "name": "stdout",
     "text": "The autoreload extension is already loaded. To reload it, use:\n  %reload_ext autoreload\n"
    }
   ],
   "source": [
    "%load_ext autoreload\n",
    "%autoreload 2"
   ]
  },
  {
   "cell_type": "code",
   "execution_count": 17,
   "metadata": {},
   "outputs": [],
   "source": [
    "import sys\n",
    "sys.path.insert(0, '../')"
   ]
  },
  {
   "cell_type": "code",
   "execution_count": 18,
   "metadata": {},
   "outputs": [],
   "source": [
    "from qiskit.providers.aer.noise import NoiseModel\n",
    "from qiskit.providers.aer.noise.errors import pauli_error, depolarizing_error\n",
    "\n",
    "def get_noise(p_err):\n",
    "\n",
    "    error_gate1 = pauli_error([('X', p_err/2), ('Z', p_err/2), ('I', 1 - p_err)])\n",
    "    error_gate2 = error_gate1.tensor(error_gate1)\n",
    "\n",
    "    noise_model = NoiseModel()\n",
    "    noise_model.add_all_qubit_quantum_error(error_gate1, \"measure\") # measurement error is applied to measurements\n",
    "    noise_model.add_all_qubit_quantum_error(error_gate1, [\"u1\", \"u2\", \"u3\"]) # single qubit gate error is applied to x gates\n",
    "    noise_model.add_all_qubit_quantum_error(error_gate2, [\"cx\"]) # two qubit gate error is applied to cx gates\n",
    "        \n",
    "    return noise_model"
   ]
  },
  {
   "cell_type": "code",
   "execution_count": 19,
   "metadata": {},
   "outputs": [],
   "source": [
    "from qiskit import execute, Aer\n",
    "from circuits import SurfaceCode\n",
    "from fitters import GraphDecoder"
   ]
  },
  {
   "cell_type": "code",
   "execution_count": 9,
   "metadata": {
    "tags": []
   },
   "outputs": [],
   "source": [
    "def full_loop(code, decoder1, decoder2, noise_model=None):\n",
    "    # noise_model = get_noise(0.01)\n",
    "    counts = execute(code.circuit['0'], Aer.get_backend('qasm_simulator'), shots=1).result().get_counts()\n",
    "    X_errors, Z_errors = code.extract_nodes(code.process_results(counts))\n",
    "\n",
    "    print(\"Raw readout:\", counts)\n",
    "    print(\"Parsed X:\", X_errors)\n",
    "    print(\"Parsed Z:\", Z_errors)\n",
    "\n",
    "    # X_errors = [node for node in X_errors if node[0] != -2]\n",
    "    # Z_errors = [node for node in Z_errors if node[0] != -2]\n",
    "\n",
    "    for decoder in (decoder1, decoder2):\n",
    "        if X_errors:\n",
    "            error_graph, _ = decoder.make_error_graph(X_errors, \"X\")\n",
    "            matching_graph = decoder.matching_graph(error_graph,'X')\n",
    "            matches = decoder.matching(matching_graph,'X')\n",
    "            _, paths = decoder2.make_error_graph(X_errors, \"X\")\n",
    "            flips_x = decoder.calculate_qubit_flips(matches, paths,'X')\n",
    "        else:\n",
    "            flips_x = {}\n",
    "\n",
    "        if Z_errors:\n",
    "            error_graph, _ = decoder.make_error_graph(Z_errors, \"Z\")\n",
    "            matching_graph = decoder.matching_graph(error_graph,'Z')\n",
    "            matches = decoder.matching(matching_graph,'Z')\n",
    "            _, paths = decoder2.make_error_graph(X_errors, \"Z\")\n",
    "            flips_z = decoder.calculate_qubit_flips(matches, paths,'Z')\n",
    "        else:\n",
    "            flips_z = {}\n",
    "\n",
    "        print(\"----------------\")\n",
    "        print(\"Decoder results\" + (\" (sim):\" if decoder == decoder1 else \":\"))\n",
    "        print(decoder.net_qubit_flips(flips_x, flips_z))"
   ]
  },
  {
   "cell_type": "code",
   "execution_count": 6,
   "metadata": {},
   "outputs": [],
   "source": [
    "code = SurfaceCode(3, 1)\n",
    "decoder1 = GraphDecoder(3, 1, simulation=True)\n",
    "decoder2 = GraphDecoder(3, 1)"
   ]
  },
  {
   "cell_type": "code",
   "execution_count": 10,
   "metadata": {
    "tags": []
   },
   "outputs": [
    {
     "output_type": "stream",
     "name": "stdout",
     "text": "====Run 0 ====\nRaw readout: {'110110110 00000100': 1}\nParsed X: [(0, 1.5, 0.5)]\nParsed Z: []\n----------------\nDecoder results (sim):\nPhysical Qubit: (1.0, 0.0)\nError: X at time: 0\n{(1.0, 0.0): array([[0, 1],\n       [1, 0]])}\n----------------\nDecoder results:\nPhysical Qubit: (1.0, 0.0)\nError: X at time: 0\n{(1.0, 0.0): array([[0, 1],\n       [1, 0]])}\n============= \n\n====Run 1 ====\nRaw readout: {'110110101 10000100': 1}\nParsed X: [(0, -0.5, 0.5), (0, 1.5, 0.5)]\nParsed Z: []\n----------------\nDecoder results (sim):\nPhysical Qubit: (0.0, 1.0)\nError: X at time: 0\nPhysical Qubit: (1.0, 1.0)\nError: X at time: 0\n{(0.0, 1.0): array([[0, 1],\n       [1, 0]]), (1.0, 1.0): array([[0, 1],\n       [1, 0]])}\n----------------\nDecoder results:\nPhysical Qubit: (0.0, 1.0)\nError: X at time: 0\nPhysical Qubit: (1.0, 1.0)\nError: X at time: 0\n{(0.0, 1.0): array([[0, 1],\n       [1, 0]]), (1.0, 1.0): array([[0, 1],\n       [1, 0]])}\n============= \n\n====Run 2 ====\nRaw readout: {'101101101 00000100': 1}\nParsed X: [(0, 1.5, 0.5)]\nParsed Z: []\n----------------\nDecoder results (sim):\nPhysical Qubit: (1.0, 0.0)\nError: X at time: 0\n{(1.0, 0.0): array([[0, 1],\n       [1, 0]])}\n----------------\nDecoder results:\nPhysical Qubit: (1.0, 0.0)\nError: X at time: 0\n{(1.0, 0.0): array([[0, 1],\n       [1, 0]])}\n============= \n\n====Run 3 ====\nRaw readout: {'101011000 00000100': 1}\nParsed X: [(0, 1.5, 0.5)]\nParsed Z: []\n----------------\nDecoder results (sim):\nPhysical Qubit: (1.0, 0.0)\nError: X at time: 0\n{(1.0, 0.0): array([[0, 1],\n       [1, 0]])}\n----------------\nDecoder results:\nPhysical Qubit: (1.0, 0.0)\nError: X at time: 0\n{(1.0, 0.0): array([[0, 1],\n       [1, 0]])}\n============= \n\n====Run 4 ====\nRaw readout: {'011011000 00000100': 1}\nParsed X: [(0, 1.5, 0.5)]\nParsed Z: []\n----------------\nDecoder results (sim):\nPhysical Qubit: (1.0, 0.0)\nError: X at time: 0\n{(1.0, 0.0): array([[0, 1],\n       [1, 0]])}\n----------------\nDecoder results:\nPhysical Qubit: (1.0, 0.0)\nError: X at time: 0\n{(1.0, 0.0): array([[0, 1],\n       [1, 0]])}\n============= \n\n====Run 5 ====\nRaw readout: {'110000011 00100100': 1}\nParsed X: [(0, 0.5, 1.5), (0, 1.5, 0.5)]\nParsed Z: []\n----------------\nDecoder results (sim):\nPhysical Qubit: (1.0, 1.0)\nError: X at time: 0\n{(1.0, 1.0): array([[0, 1],\n       [1, 0]])}\n----------------\nDecoder results:\nPhysical Qubit: (1.0, 1.0)\nError: X at time: 0\n{(1.0, 1.0): array([[0, 1],\n       [1, 0]])}\n============= \n\n====Run 6 ====\nRaw readout: {'110000011 10000100': 1}\nParsed X: [(0, -0.5, 0.5), (0, 1.5, 0.5)]\nParsed Z: []\n----------------\nDecoder results (sim):\nPhysical Qubit: (0.0, 1.0)\nError: X at time: 0\nPhysical Qubit: (1.0, 1.0)\nError: X at time: 0\n{(0.0, 1.0): array([[0, 1],\n       [1, 0]]), (1.0, 1.0): array([[0, 1],\n       [1, 0]])}\n----------------\nDecoder results:\nPhysical Qubit: (0.0, 1.0)\nError: X at time: 0\nPhysical Qubit: (1.0, 1.0)\nError: X at time: 0\n{(0.0, 1.0): array([[0, 1],\n       [1, 0]]), (1.0, 1.0): array([[0, 1],\n       [1, 0]])}\n============= \n\n====Run 7 ====\nRaw readout: {'000000000 00000100': 1}\nParsed X: [(0, 1.5, 0.5)]\nParsed Z: []\n----------------\nDecoder results (sim):\nPhysical Qubit: (1.0, 0.0)\nError: X at time: 0\n{(1.0, 0.0): array([[0, 1],\n       [1, 0]])}\n----------------\nDecoder results:\nPhysical Qubit: (1.0, 0.0)\nError: X at time: 0\n{(1.0, 0.0): array([[0, 1],\n       [1, 0]])}\n============= \n\n====Run 8 ====\nRaw readout: {'000110101 00100101': 1}\nParsed X: [(0, 0.5, 1.5), (0, 1.5, 0.5), (0, 2.5, 1.5)]\nParsed Z: []\n----------------\nDecoder results (sim):\nPhysical Qubit: (0.0, 2.0)\nError: X at time: 0\nPhysical Qubit: (2.0, 1.0)\nError: X at time: 0\n{(0.0, 2.0): array([[0, 1],\n       [1, 0]]), (2.0, 1.0): array([[0, 1],\n       [1, 0]])}\n----------------\nDecoder results:\nPhysical Qubit: (0.0, 2.0)\nError: X at time: 0\nPhysical Qubit: (2.0, 1.0)\nError: X at time: 0\n{(0.0, 2.0): array([[0, 1],\n       [1, 0]]), (2.0, 1.0): array([[0, 1],\n       [1, 0]])}\n============= \n\n====Run 9 ====\nRaw readout: {'110110110 00100100': 1}\nParsed X: [(0, 0.5, 1.5), (0, 1.5, 0.5)]\nParsed Z: []\n----------------\nDecoder results (sim):\nPhysical Qubit: (1.0, 1.0)\nError: X at time: 0\n{(1.0, 1.0): array([[0, 1],\n       [1, 0]])}\n----------------\nDecoder results:\nPhysical Qubit: (1.0, 1.0)\nError: X at time: 0\n{(1.0, 1.0): array([[0, 1],\n       [1, 0]])}\n============= \n\n"
    }
   ],
   "source": [
    "for i in range(10):\n",
    "    print(\"====Run\", i, \"====\")\n",
    "    full_loop(code, decoder1, decoder2)\n",
    "    print(\"=============\", \"\\n\")"
   ]
  },
  {
   "cell_type": "code",
   "execution_count": 15,
   "metadata": {
    "tags": []
   },
   "outputs": [
    {
     "output_type": "stream",
     "name": "stdout",
     "text": "====Run 0 ====\nRaw readout: {'101011000 00000001': 1}\nParsed X: [(0, 2.5, 1.5)]\nParsed Z: []\n----------------\nDecoder results (sim):\nPhysical Qubit: (2.0, 2.0)\nError: X at time: 0\n{(2.0, 2.0): array([[0, 1],\n       [1, 0]])}\n----------------\nDecoder results:\nPhysical Qubit: (2.0, 2.0)\nError: X at time: 0\n{(2.0, 2.0): array([[0, 1],\n       [1, 0]])}\n============= \n\n====Run 1 ====\nRaw readout: {'110000000 10000001': 1}\nParsed X: [(0, -0.5, 0.5), (0, 2.5, 1.5)]\nParsed Z: []\n----------------\nDecoder results (sim):\nPhysical Qubit: (0.0, 1.0)\nError: X at time: 0\nPhysical Qubit: (1.0, 1.0)\nError: X at time: 0\nPhysical Qubit: (2.0, 1.0)\nError: X at time: 0\n{(0.0, 1.0): array([[0, 1],\n       [1, 0]]), (1.0, 1.0): array([[0, 1],\n       [1, 0]]), (2.0, 1.0): array([[0, 1],\n       [1, 0]])}\n----------------\nDecoder results:\nPhysical Qubit: (2.0, 2.0)\nError: X at time: 0\nPhysical Qubit: (0.0, 0.0)\nError: X at time: 0\n{(2.0, 2.0): array([[0, 1],\n       [1, 0]]), (0.0, 0.0): array([[0, 1],\n       [1, 0]])}\n============= \n\n====Run 2 ====\nRaw readout: {'000110101 00100000': 1}\nParsed X: [(0, 0.5, 1.5)]\nParsed Z: []\n----------------\nDecoder results (sim):\nPhysical Qubit: (0.0, 2.0)\nError: X at time: 0\n{(0.0, 2.0): array([[0, 1],\n       [1, 0]])}\n----------------\nDecoder results:\nPhysical Qubit: (0.0, 2.0)\nError: X at time: 0\n{(0.0, 2.0): array([[0, 1],\n       [1, 0]])}\n============= \n\n====Run 3 ====\nRaw readout: {'110000000 00100100': 1}\nParsed X: [(0, 0.5, 1.5), (0, 1.5, 0.5)]\nParsed Z: []\n----------------\nDecoder results (sim):\nPhysical Qubit: (1.0, 1.0)\nError: X at time: 0\n{(1.0, 1.0): array([[0, 1],\n       [1, 0]])}\n----------------\nDecoder results:\nPhysical Qubit: (1.0, 1.0)\nError: X at time: 0\n{(1.0, 1.0): array([[0, 1],\n       [1, 0]])}\n============= \n\n====Run 4 ====\nRaw readout: {'101101110 00000100': 1}\nParsed X: [(0, 1.5, 0.5)]\nParsed Z: []\n----------------\nDecoder results (sim):\nPhysical Qubit: (1.0, 0.0)\nError: X at time: 0\n{(1.0, 0.0): array([[0, 1],\n       [1, 0]])}\n----------------\nDecoder results:\nPhysical Qubit: (1.0, 0.0)\nError: X at time: 0\n{(1.0, 0.0): array([[0, 1],\n       [1, 0]])}\n============= \n\n====Run 5 ====\nRaw readout: {'011011000 10100000': 1}\nParsed X: [(0, -0.5, 0.5), (0, 0.5, 1.5)]\nParsed Z: []\n----------------\nDecoder results (sim):\nPhysical Qubit: (0.0, 1.0)\nError: X at time: 0\n{(0.0, 1.0): array([[0, 1],\n       [1, 0]])}\n----------------\nDecoder results:\nPhysical Qubit: (0.0, 1.0)\nError: X at time: 0\n{(0.0, 1.0): array([[0, 1],\n       [1, 0]])}\n============= \n\n====Run 6 ====\nRaw readout: {'011101101 10100101': 1}\nParsed X: [(0, -0.5, 0.5), (0, 0.5, 1.5), (0, 1.5, 0.5), (0, 2.5, 1.5)]\nParsed Z: []\n----------------\nDecoder results (sim):\nPhysical Qubit: (0.0, 1.0)\nError: X at time: 0\nPhysical Qubit: (2.0, 1.0)\nError: X at time: 0\n{(0.0, 1.0): array([[0, 1],\n       [1, 0]]), (2.0, 1.0): array([[0, 1],\n       [1, 0]])}\n----------------\nDecoder results:\nPhysical Qubit: (0.0, 1.0)\nError: X at time: 0\nPhysical Qubit: (2.0, 1.0)\nError: X at time: 0\n{(0.0, 1.0): array([[0, 1],\n       [1, 0]]), (2.0, 1.0): array([[0, 1],\n       [1, 0]])}\n============= \n\n====Run 7 ====\nRaw readout: {'000000011 10100000': 1}\nParsed X: [(0, -0.5, 0.5), (0, 0.5, 1.5)]\nParsed Z: []\n----------------\nDecoder results (sim):\nPhysical Qubit: (0.0, 1.0)\nError: X at time: 0\n{(0.0, 1.0): array([[0, 1],\n       [1, 0]])}\n----------------\nDecoder results:\nPhysical Qubit: (0.0, 1.0)\nError: X at time: 0\n{(0.0, 1.0): array([[0, 1],\n       [1, 0]])}\n============= \n\n====Run 8 ====\nRaw readout: {'101101101 00000100': 1}\nParsed X: [(0, 1.5, 0.5)]\nParsed Z: []\n----------------\nDecoder results (sim):\nPhysical Qubit: (1.0, 0.0)\nError: X at time: 0\n{(1.0, 0.0): array([[0, 1],\n       [1, 0]])}\n----------------\nDecoder results:\nPhysical Qubit: (1.0, 0.0)\nError: X at time: 0\n{(1.0, 0.0): array([[0, 1],\n       [1, 0]])}\n============= \n\n====Run 9 ====\nRaw readout: {'110110101 00100000': 1}\nParsed X: [(0, 0.5, 1.5)]\nParsed Z: []\n----------------\nDecoder results (sim):\nPhysical Qubit: (0.0, 2.0)\nError: X at time: 0\n{(0.0, 2.0): array([[0, 1],\n       [1, 0]])}\n----------------\nDecoder results:\nPhysical Qubit: (0.0, 2.0)\nError: X at time: 0\n{(0.0, 2.0): array([[0, 1],\n       [1, 0]])}\n============= \n\n"
    }
   ],
   "source": [
    "for i in range(10):\n",
    "    print(\"====Run\", i, \"====\")\n",
    "    full_loop(code, decoder1, decoder2, noise_model=get_noise(0.5))\n",
    "    print(\"=============\", \"\\n\")"
   ]
  },
  {
   "cell_type": "code",
   "execution_count": 30,
   "metadata": {},
   "outputs": [
    {
     "output_type": "execute_result",
     "data": {
      "text/plain": "{'1': 1012, '0': 12}"
     },
     "metadata": {},
     "execution_count": 30
    }
   ],
   "source": [
    "from qiskit import QuantumCircuit, execute\n",
    "qc = QuantumCircuit(1, 1)\n",
    "qc.x(0)\n",
    "qc.measure(0, 0)\n",
    "execute(qc, Aer.get_backend('qasm_simulator'), noise_model=get_noise(0.01)).result().get_counts()"
   ]
  },
  {
   "cell_type": "code",
   "execution_count": null,
   "metadata": {},
   "outputs": [],
   "source": []
  }
 ],
 "metadata": {
  "language_info": {
   "codemirror_mode": {
    "name": "ipython",
    "version": 3
   },
   "file_extension": ".py",
   "mimetype": "text/x-python",
   "name": "python",
   "nbconvert_exporter": "python",
   "pygments_lexer": "ipython3",
   "version": "3.7.7-final"
  },
  "orig_nbformat": 2,
  "kernelspec": {
   "name": "python37764bitvenvvenv7408d8b88faf4c5294f43086f1dc80f8",
   "display_name": "Python 3.7.7 64-bit ('.venv': venv)"
  }
 },
 "nbformat": 4,
 "nbformat_minor": 2
}