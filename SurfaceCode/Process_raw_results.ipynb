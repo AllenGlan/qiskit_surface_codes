{
 "cells": [
  {
   "cell_type": "code",
   "execution_count": 3,
   "metadata": {},
   "outputs": [],
   "source": [
    "import qiskit\n",
    "#from qiskit import IBMQ\n",
    "#IBMQ.save_account(\"API toke\")\n",
    "from qiskit import QuantumRegister, ClassicalRegister\n",
    "import copy\n",
    "import warnings\n",
    "import networkx as nx\n",
    "import numpy as np\n",
    "\n",
    "from qiskit import QuantumCircuit, execute\n",
    "import matplotlib"
   ]
  },
  {
   "cell_type": "markdown",
   "metadata": {},
   "source": [
    "# Process_Raw_Results "
   ]
  },
  {
   "cell_type": "code",
   "execution_count": 265,
   "metadata": {},
   "outputs": [
    {
     "name": "stdout",
     "output_type": "stream",
     "text": [
      " \n",
      " \n",
      "[1, 0, 0, 1] [(1, 0, 2), (1, 2, 4), (1, 4, 2), (1, 6, 4)] [1, 1, 0, 1, 0, 0, 1, 0]\n",
      " \n",
      "[0, 0, 1, 0] [(2, 0, 2), (2, 2, 4), (2, 4, 2), (2, 6, 4)] [1, 1, 0, 1, 1, 0, 1, 0]\n"
     ]
    }
   ],
   "source": [
    "d=3\n",
    "syn_meas_results=[]\n",
    "prev_meas=[]\n",
    "for k in range(d-1):\n",
    "    new=[]\n",
    "    for i in range(d**2-1):\n",
    "        new.append(int(np.random.random()/0.5))\n",
    "        #print(k,i,new[i])\n",
    "        \n",
    "    syn_meas_results.append(new)\n",
    "\n",
    "#input d and array of syndrome measurment syn_meas_result (all even=x and all odd=z) and prev_meas=-1 if empty\n",
    "#Find nodes for the lattice qubtis(0,i,j) and syndrome qubits at each time k (k,i,j)\n",
    "GX=nx.Graph()\n",
    "GZ=nx.Graph()\n",
    "for i in range(0,d):\n",
    "    for j in range(0,d):\n",
    "        GX.add_node((0,2*i+1,2*j+1))\n",
    "        GZ.add_node((0,2*i+1,2*j+1))\n",
    "for k in range(1,d,1):\n",
    "    for i in range(0,d+1,1):\n",
    "        for j in range(0,d+1,1):\n",
    "            if (i+j)%2!=0:\n",
    "                if ((i%2==0) and j!=d) or ((i%2==1) and (j!=0)):\n",
    "                    GX.add_node((k,2*i,2*j))\n",
    "            else:\n",
    "                if ((j%2==0) and i!=0) or ((j%2==1) and (i!=d)):\n",
    "                        GZ.add_node((k,2*i,2*j))\n",
    "\n",
    "#processed raw results in valueX and nodes in nodeX\n",
    "nodeX=[] \n",
    "valueX=[]\n",
    "for i in range(d):\n",
    "    new=[]\n",
    "    newv=[]\n",
    "    j=0\n",
    "    if i==0:\n",
    "        for node in list(GX.nodes):\n",
    "                if node[0]==i:\n",
    "                    new.append(node)\n",
    "                    if node[0]==0:\n",
    "                        newv.append(-1)\n",
    "                        #print(node,node[0],-1)\n",
    "    else:\n",
    "        for node in list(GX.nodes):\n",
    "            if node[0]==i:\n",
    "                new.append(node)\n",
    "                if i==1:\n",
    "                    newv.append(syn_meas_results[i-1][j])\n",
    "                else:\n",
    "                    newv.append((syn_meas_results[i-1][j]+syn_meas_results[i-2][j])%2)\n",
    "                j=j+2\n",
    "                \n",
    "    #print(\" \")\n",
    "    nodeX.append(new)\n",
    "    valueX.append(newv)\n",
    "   # if i!=0:\n",
    "    #    print(valueX[i],nodeX[i],syn_meas_results[i-1])\n",
    "    \n",
    "    #Processing bitwise OR\n",
    "        \n",
    "#print(syndromeX)\n",
    "\n",
    "#nx.draw(GX)"
   ]
  },
  {
   "cell_type": "code",
   "execution_count": null,
   "metadata": {},
   "outputs": [],
   "source": []
  }
 ],
 "metadata": {
  "kernelspec": {
   "display_name": "Python 3",
   "language": "python",
   "name": "python3"
  },
  "language_info": {
   "codemirror_mode": {
    "name": "ipython",
    "version": 3
   },
   "file_extension": ".py",
   "mimetype": "text/x-python",
   "name": "python",
   "nbconvert_exporter": "python",
   "pygments_lexer": "ipython3",
   "version": "3.8.3"
  }
 },
 "nbformat": 4,
 "nbformat_minor": 4
}
