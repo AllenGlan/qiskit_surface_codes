{
 "cells": [
  {
   "cell_type": "markdown",
   "metadata": {},
   "source": [
    "# Simulation and Noise Models"
   ]
  },
  {
   "cell_type": "code",
   "execution_count": 4,
   "metadata": {
    "tags": []
   },
   "outputs": [
    {
     "name": "stdout",
     "output_type": "stream",
     "text": [
      "The autoreload extension is already loaded. To reload it, use:\n",
      "  %reload_ext autoreload\n"
     ]
    }
   ],
   "source": [
    "%load_ext autoreload\n",
    "%autoreload 2"
   ]
  },
  {
   "cell_type": "code",
   "execution_count": 5,
   "metadata": {},
   "outputs": [],
   "source": [
    "import sys\n",
    "sys.path.insert(0, '../')"
   ]
  },
  {
   "cell_type": "markdown",
   "metadata": {},
   "source": [
    "We can set up a noise model, following the [Qiskit textbook](https://qiskit.org/textbook/ch-quantum-hardware/error-correction-repetition-code.html#Correcting-errors-in-qubits). We define our noise model to have equal chances of X and Z:"
   ]
  },
  {
   "cell_type": "code",
   "execution_count": 6,
   "metadata": {},
   "outputs": [],
   "source": [
    "from qiskit.providers.aer.noise import NoiseModel\n",
    "from qiskit.providers.aer.noise.errors import pauli_error, depolarizing_error\n",
    "\n",
    "def get_noise_model(p_err):\n",
    "\n",
    "    error_gate1 = pauli_error([(\"X\", p_err / 2), (\"Z\", p_err / 2), (\"I\", 1 - p_err)])\n",
    "\n",
    "    noise_model = NoiseModel()\n",
    "    noise_model.add_all_qubit_quantum_error(error_gate1, \"id\")\n",
    "    return noise_model"
   ]
  },
  {
   "cell_type": "markdown",
   "metadata": {},
   "source": [
    "We set up a test harness to run through some examples:"
   ]
  },
  {
   "cell_type": "code",
   "execution_count": 7,
   "metadata": {},
   "outputs": [],
   "source": [
    "import sys\n",
    "import os\n",
    "\n",
    "sys.path.insert(0, \"..\" + os.sep)\n",
    "from benchmarking.benchmarking_tools import SurfaceCodeBenchmarkingTool\n",
    "from qiskit.providers.aer.noise import NoiseModel\n",
    "from qiskit.providers.aer.noise.errors import pauli_error, depolarizing_error\n",
    "from surface_code.fitters import GraphDecoder\n",
    "from surface_code.circuits import SurfaceCodeLogicalQubit\n",
    "from qiskit import QuantumCircuit, execute, QuantumRegister, ClassicalRegister, Aer\n",
    "from tqdm import tqdm\n",
    "\n",
    "import multiprocessing as mp"
   ]
  },
  {
   "cell_type": "code",
   "execution_count": null,
   "metadata": {
    "scrolled": true
   },
   "outputs": [],
   "source": [
    "logical = []\n",
    "noise = [5e-5, 1e-4, 2e-4, 5e-4, 1e-3, 2e-3, 4e-3, 5e-3, 6e-3, 7e-3, 8e-3, 9e-3, 1e-2, 2e-2]\n",
    "d = 3\n",
    "T = 1\n",
    "\n",
    "qubit = SurfaceCodeLogicalQubit(d)\n",
    "qubit.stabilize()\n",
    "qubit.identity_data()\n",
    "qubit.stabilize()\n",
    "qubit.readout_z()\n",
    "qubit.draw(output='mpl', fold=50)"
   ]
  },
  {
   "cell_type": "code",
   "execution_count": null,
   "metadata": {},
   "outputs": [],
   "source": [
    "benchmarking_tool = SurfaceCodeBenchmarkingTool(\n",
    "    decoder=GraphDecoder(d=d, T=T),\n",
    "    readout_circuit=qubit,\n",
    "    noise_model_func=get_noise_model,\n",
    ")\n",
    "\n",
    "print(\"\\nSIMULATE: (d={},T={})\\n\".format(benchmarking_tool.d, benchmarking_tool.T))\n",
    "correct_logical_value = 0\n",
    "noise_values = [\n",
    "    5e-5,\n",
    "    1e-4,\n",
    "    2e-4,\n",
    "    5e-4,\n",
    "    1e-3,\n",
    "    2e-3,\n",
    "    4e-3,\n",
    "    5e-3,\n",
    "    6e-3,\n",
    "    7e-3,\n",
    "    8e-3,\n",
    "    9e-3,\n",
    "    1e-2,\n",
    "    2e-2,\n",
    "]\n",
    "benchmarking_tool.simulate_readout(\n",
    "    correct_logical_value=correct_logical_value, noise_values=noise_values, shots=100000, save_data=False\n",
    ")\n",
    "print(\"Done!\")"
   ]
  },
  {
   "cell_type": "code",
   "execution_count": null,
   "metadata": {
    "scrolled": false
   },
   "outputs": [],
   "source": [
    "import matplotlib.pyplot as plt\n",
    "import numpy as np\n",
    "for log_plot in [True, False]:\n",
    "    fig = plt.figure(figsize=(3.5, 2.5), dpi=200)\n",
    "    ax = fig.subplots()\n",
    "    benchmarking_tool.plot_benchmark_data(\n",
    "        fig=fig,\n",
    "        ax=ax,\n",
    "        label=\"d={},T={}\".format(benchmarking_tool.d, benchmarking_tool.T),\n",
    "        log=log_plot,\n",
    "    )\n",
    "    plt.plot(\n",
    "        benchmarking_tool.benchmark_data[\"noise\"],\n",
    "        0.5 * np.array(benchmarking_tool.benchmark_data[\"noise\"]),\n",
    "        \"--\",\n",
    "        label=\"breakeven\",\n",
    "    )\n",
    "    plt.legend(loc=\"lower right\", prop={\"size\": 6})\n",
    "    ax.set_xlabel(\"Physical Error Rate\", size=10)\n",
    "    ax.set_ylabel(\"Logical Error Rate\", size=10)\n",
    "    ax.set_title(\"Surface Code Performance\", size=10)\n",
    "    fig.tight_layout()\n",
    "    plt.show()"
   ]
  },
  {
   "cell_type": "markdown",
   "metadata": {},
   "source": [
    "So, we see the d=3, T=1 surface code does quite well for this particular error model!"
   ]
  },
  {
   "cell_type": "code",
   "execution_count": null,
   "metadata": {},
   "outputs": [],
   "source": [
    "logical = []\n",
    "noise = [5e-5, 1e-4, 2e-4, 5e-4, 1e-3, 2e-3, 4e-3, 5e-3, 6e-3, 7e-3, 8e-3, 9e-3, 1e-2, 2e-2]\n",
    "d = 3\n",
    "T = 1\n",
    "\n",
    "qubit = SurfaceCodeLogicalQubit(d)\n",
    "qubit.stabilize()\n",
    "qubit.identity()\n",
    "qubit.stabilize()\n",
    "qubit.readout_z()\n",
    "benchmarking_tool_full = SurfaceCodeBenchmarkingTool(\n",
    "    decoder=GraphDecoder(d=d, T=T),\n",
    "    readout_circuit=qubit,\n",
    "    noise_model_func=get_noise_model,\n",
    ")\n",
    "\n",
    "print(\"\\nSIMULATE: (d={},T={})\\n\".format(benchmarking_tool_full.d, benchmarking_tool_full.T))\n",
    "correct_logical_value = 0\n",
    "noise_values = [\n",
    "    5e-5,\n",
    "    1e-4,\n",
    "    2e-4,\n",
    "    5e-4,\n",
    "    1e-3,\n",
    "    2e-3,\n",
    "    4e-3,\n",
    "    5e-3,\n",
    "    6e-3,\n",
    "    7e-3,\n",
    "    8e-3,\n",
    "    9e-3,\n",
    "    1e-2,\n",
    "    2e-2,\n",
    "]\n",
    "benchmarking_tool_full.simulate_readout(\n",
    "    correct_logical_value=correct_logical_value, noise_values=noise_values, shots=100000, save_data=False\n",
    ")\n",
    "print(\"Done!\")"
   ]
  },
  {
   "cell_type": "code",
   "execution_count": null,
   "metadata": {},
   "outputs": [],
   "source": [
    "import matplotlib.pyplot as plt\n",
    "import numpy as np\n",
    "for log_plot in [True, False]:\n",
    "    fig = plt.figure(figsize=(3.5, 2.5), dpi=200)\n",
    "    ax = fig.subplots()\n",
    "    benchmarking_tool_full.plot_benchmark_data(\n",
    "        fig=fig,\n",
    "        ax=ax,\n",
    "        label=\"d={},T={}\".format(benchmarking_tool_full.d, benchmarking_tool_full.T),\n",
    "        log=log_plot,\n",
    "    )\n",
    "    plt.plot(\n",
    "        benchmarking_tool_full.benchmark_data[\"noise\"],\n",
    "        np.array(benchmarking_tool_full.benchmark_data[\"noise\"]),\n",
    "        \"--\",\n",
    "        label=\"breakeven\",\n",
    "    )\n",
    "    plt.legend(loc=\"lower right\", prop={\"size\": 6})\n",
    "    ax.set_xlabel(\"Physical Error Rate\", size=10)\n",
    "    ax.set_ylabel(\"Logical Error Rate\", size=10)\n",
    "    ax.set_title(\"Surface Code Performance\", size=10)\n",
    "    fig.tight_layout()\n",
    "    plt.show()"
   ]
  },
  {
   "cell_type": "code",
   "execution_count": null,
   "metadata": {},
   "outputs": [],
   "source": []
  }
 ],
 "metadata": {
  "kernelspec": {
   "display_name": "Python 3",
   "language": "python",
   "name": "python3"
  },
  "language_info": {
   "codemirror_mode": {
    "name": "ipython",
    "version": 3
   },
   "file_extension": ".py",
   "mimetype": "text/x-python",
   "name": "python",
   "nbconvert_exporter": "python",
   "pygments_lexer": "ipython3",
   "version": "3.6.10"
  }
 },
 "nbformat": 4,
 "nbformat_minor": 2
}
