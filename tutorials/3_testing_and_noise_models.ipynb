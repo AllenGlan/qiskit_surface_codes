{
 "cells": [
  {
   "cell_type": "markdown",
   "metadata": {},
   "source": [
    "# Simulation and Noise Models"
   ]
  },
  {
   "cell_type": "code",
   "execution_count": 16,
   "metadata": {
    "tags": []
   },
   "outputs": [
    {
     "name": "stdout",
     "output_type": "stream",
     "text": [
      "The autoreload extension is already loaded. To reload it, use:\n",
      "  %reload_ext autoreload\n"
     ]
    }
   ],
   "source": [
    "%load_ext autoreload\n",
    "%autoreload 2"
   ]
  },
  {
   "cell_type": "code",
   "execution_count": 17,
   "metadata": {},
   "outputs": [],
   "source": [
    "import sys\n",
    "sys.path.insert(0, '../')"
   ]
  },
  {
   "cell_type": "markdown",
   "metadata": {},
   "source": [
    "We can set up a noise model, following the [Qiskit textbook](https://qiskit.org/textbook/ch-quantum-hardware/error-correction-repetition-code.html#Correcting-errors-in-qubits). We define our noise model to have equal chances of X and Z:"
   ]
  },
  {
   "cell_type": "code",
   "execution_count": 18,
   "metadata": {},
   "outputs": [],
   "source": [
    "from qiskit.providers.aer.noise import NoiseModel\n",
    "from qiskit.providers.aer.noise.errors import pauli_error, depolarizing_error\n",
    "\n",
    "def get_noise(p_err):\n",
    "\n",
    "    error_gate1 = pauli_error([('X', p_err/2), ('Z', p_err/2), ('I', 1 - p_err)])\n",
    "    error_gate2 = error_gate1.tensor(error_gate1)\n",
    "\n",
    "    noise_model = NoiseModel()\n",
    "    noise_model.add_all_qubit_quantum_error(error_gate1, \"measure\") # measurement error is applied to measurements\n",
    "    noise_model.add_all_qubit_quantum_error(error_gate1, [\"u1\", \"u2\", \"u3\"]) # single qubit gate error is applied to x gates\n",
    "    noise_model.add_all_qubit_quantum_error(error_gate2, [\"cx\"]) # two qubit gate error is applied to cx gates\n",
    "        \n",
    "    return noise_model"
   ]
  },
  {
   "cell_type": "code",
   "execution_count": 19,
   "metadata": {},
   "outputs": [],
   "source": [
    "from qiskit import execute, Aer\n",
    "from circuits import SurfaceCode\n",
    "from fitters import GraphDecoder"
   ]
  },
  {
   "cell_type": "markdown",
   "metadata": {},
   "source": [
    "We set up a test harness to run through some examples:"
   ]
  },
  {
   "cell_type": "code",
   "execution_count": 9,
   "metadata": {
    "tags": []
   },
   "outputs": [],
   "source": [
    "def full_loop(code, decoder1, decoder2, noise_model=None):\n",
    "    # noise_model = get_noise(0.01)\n",
    "    counts = execute(code.circuit['0'], Aer.get_backend('qasm_simulator'), shots=1).result().get_counts()\n",
    "    X_errors, Z_errors = code.extract_nodes(code.process_results(counts))\n",
    "\n",
    "    print(\"Raw readout:\", counts)\n",
    "    print(\"Parsed X:\", X_errors)\n",
    "    print(\"Parsed Z:\", Z_errors)\n",
    "\n",
    "    # X_errors = [node for node in X_errors if node[0] != -2]\n",
    "    # Z_errors = [node for node in Z_errors if node[0] != -2]\n",
    "\n",
    "    for decoder in (decoder1, decoder2):\n",
    "        if X_errors:\n",
    "            error_graph, _ = decoder.make_error_graph(X_errors, \"X\")\n",
    "            matching_graph = decoder.matching_graph(error_graph,'X')\n",
    "            matches = decoder.matching(matching_graph,'X')\n",
    "            _, paths = decoder2.make_error_graph(X_errors, \"X\")\n",
    "            flips_x = decoder.calculate_qubit_flips(matches, paths,'X')\n",
    "        else:\n",
    "            flips_x = {}\n",
    "\n",
    "        if Z_errors:\n",
    "            error_graph, _ = decoder.make_error_graph(Z_errors, \"Z\")\n",
    "            matching_graph = decoder.matching_graph(error_graph,'Z')\n",
    "            matches = decoder.matching(matching_graph,'Z')\n",
    "            _, paths = decoder2.make_error_graph(X_errors, \"Z\")\n",
    "            flips_z = decoder.calculate_qubit_flips(matches, paths,'Z')\n",
    "        else:\n",
    "            flips_z = {}\n",
    "\n",
    "        print(\"----------------\")\n",
    "        print(\"Decoder results\" + (\" (sim):\" if decoder == decoder1 else \":\"))\n",
    "        print(decoder.net_qubit_flips(flips_x, flips_z))"
   ]
  },
  {
   "cell_type": "code",
   "execution_count": 6,
   "metadata": {},
   "outputs": [],
   "source": [
    "code = SurfaceCode(3, 1)\n",
    "decoder1 = GraphDecoder(3, 1, simulation=True)\n",
    "decoder2 = GraphDecoder(3, 1)"
   ]
  },
  {
   "cell_type": "markdown",
   "metadata": {},
   "source": [
    "We can compare `decoder1`, the syndrome graph from simulation, with `decoder2`, the analytic graph:"
   ]
  },
  {
   "cell_type": "code",
   "execution_count": 10,
   "metadata": {
    "scrolled": false,
    "tags": []
   },
   "outputs": [
    {
     "name": "stdout",
     "output_type": "stream",
     "text": [
      "====Run 0 ====\n",
      "Raw readout: {'110110110 00000100': 1}\n",
      "Parsed X: [(0, 1.5, 0.5)]\n",
      "Parsed Z: []\n",
      "----------------\n",
      "Decoder results (sim):\n",
      "Physical Qubit: (1.0, 0.0)\n",
      "Error: X at time: 0\n",
      "{(1.0, 0.0): array([[0, 1],\n",
      "       [1, 0]])}\n",
      "----------------\n",
      "Decoder results:\n",
      "Physical Qubit: (1.0, 0.0)\n",
      "Error: X at time: 0\n",
      "{(1.0, 0.0): array([[0, 1],\n",
      "       [1, 0]])}\n",
      "============= \n",
      "\n",
      "====Run 1 ====\n",
      "Raw readout: {'110110101 10000100': 1}\n",
      "Parsed X: [(0, -0.5, 0.5), (0, 1.5, 0.5)]\n",
      "Parsed Z: []\n",
      "----------------\n",
      "Decoder results (sim):\n",
      "Physical Qubit: (0.0, 1.0)\n",
      "Error: X at time: 0\n",
      "Physical Qubit: (1.0, 1.0)\n",
      "Error: X at time: 0\n",
      "{(0.0, 1.0): array([[0, 1],\n",
      "       [1, 0]]), (1.0, 1.0): array([[0, 1],\n",
      "       [1, 0]])}\n",
      "----------------\n",
      "Decoder results:\n",
      "Physical Qubit: (0.0, 1.0)\n",
      "Error: X at time: 0\n",
      "Physical Qubit: (1.0, 1.0)\n",
      "Error: X at time: 0\n",
      "{(0.0, 1.0): array([[0, 1],\n",
      "       [1, 0]]), (1.0, 1.0): array([[0, 1],\n",
      "       [1, 0]])}\n",
      "============= \n",
      "\n",
      "====Run 2 ====\n",
      "Raw readout: {'101101101 00000100': 1}\n",
      "Parsed X: [(0, 1.5, 0.5)]\n",
      "Parsed Z: []\n",
      "----------------\n",
      "Decoder results (sim):\n",
      "Physical Qubit: (1.0, 0.0)\n",
      "Error: X at time: 0\n",
      "{(1.0, 0.0): array([[0, 1],\n",
      "       [1, 0]])}\n",
      "----------------\n",
      "Decoder results:\n",
      "Physical Qubit: (1.0, 0.0)\n",
      "Error: X at time: 0\n",
      "{(1.0, 0.0): array([[0, 1],\n",
      "       [1, 0]])}\n",
      "============= \n",
      "\n",
      "====Run 3 ====\n",
      "Raw readout: {'101011000 00000100': 1}\n",
      "Parsed X: [(0, 1.5, 0.5)]\n",
      "Parsed Z: []\n",
      "----------------\n",
      "Decoder results (sim):\n",
      "Physical Qubit: (1.0, 0.0)\n",
      "Error: X at time: 0\n",
      "{(1.0, 0.0): array([[0, 1],\n",
      "       [1, 0]])}\n",
      "----------------\n",
      "Decoder results:\n",
      "Physical Qubit: (1.0, 0.0)\n",
      "Error: X at time: 0\n",
      "{(1.0, 0.0): array([[0, 1],\n",
      "       [1, 0]])}\n",
      "============= \n",
      "\n",
      "====Run 4 ====\n",
      "Raw readout: {'011011000 00000100': 1}\n",
      "Parsed X: [(0, 1.5, 0.5)]\n",
      "Parsed Z: []\n",
      "----------------\n",
      "Decoder results (sim):\n",
      "Physical Qubit: (1.0, 0.0)\n",
      "Error: X at time: 0\n",
      "{(1.0, 0.0): array([[0, 1],\n",
      "       [1, 0]])}\n",
      "----------------\n",
      "Decoder results:\n",
      "Physical Qubit: (1.0, 0.0)\n",
      "Error: X at time: 0\n",
      "{(1.0, 0.0): array([[0, 1],\n",
      "       [1, 0]])}\n",
      "============= \n",
      "\n",
      "====Run 5 ====\n",
      "Raw readout: {'110000011 00100100': 1}\n",
      "Parsed X: [(0, 0.5, 1.5), (0, 1.5, 0.5)]\n",
      "Parsed Z: []\n",
      "----------------\n",
      "Decoder results (sim):\n",
      "Physical Qubit: (1.0, 1.0)\n",
      "Error: X at time: 0\n",
      "{(1.0, 1.0): array([[0, 1],\n",
      "       [1, 0]])}\n",
      "----------------\n",
      "Decoder results:\n",
      "Physical Qubit: (1.0, 1.0)\n",
      "Error: X at time: 0\n",
      "{(1.0, 1.0): array([[0, 1],\n",
      "       [1, 0]])}\n",
      "============= \n",
      "\n",
      "====Run 6 ====\n",
      "Raw readout: {'110000011 10000100': 1}\n",
      "Parsed X: [(0, -0.5, 0.5), (0, 1.5, 0.5)]\n",
      "Parsed Z: []\n",
      "----------------\n",
      "Decoder results (sim):\n",
      "Physical Qubit: (0.0, 1.0)\n",
      "Error: X at time: 0\n",
      "Physical Qubit: (1.0, 1.0)\n",
      "Error: X at time: 0\n",
      "{(0.0, 1.0): array([[0, 1],\n",
      "       [1, 0]]), (1.0, 1.0): array([[0, 1],\n",
      "       [1, 0]])}\n",
      "----------------\n",
      "Decoder results:\n",
      "Physical Qubit: (0.0, 1.0)\n",
      "Error: X at time: 0\n",
      "Physical Qubit: (1.0, 1.0)\n",
      "Error: X at time: 0\n",
      "{(0.0, 1.0): array([[0, 1],\n",
      "       [1, 0]]), (1.0, 1.0): array([[0, 1],\n",
      "       [1, 0]])}\n",
      "============= \n",
      "\n",
      "====Run 7 ====\n",
      "Raw readout: {'000000000 00000100': 1}\n",
      "Parsed X: [(0, 1.5, 0.5)]\n",
      "Parsed Z: []\n",
      "----------------\n",
      "Decoder results (sim):\n",
      "Physical Qubit: (1.0, 0.0)\n",
      "Error: X at time: 0\n",
      "{(1.0, 0.0): array([[0, 1],\n",
      "       [1, 0]])}\n",
      "----------------\n",
      "Decoder results:\n",
      "Physical Qubit: (1.0, 0.0)\n",
      "Error: X at time: 0\n",
      "{(1.0, 0.0): array([[0, 1],\n",
      "       [1, 0]])}\n",
      "============= \n",
      "\n",
      "====Run 8 ====\n",
      "Raw readout: {'000110101 00100101': 1}\n",
      "Parsed X: [(0, 0.5, 1.5), (0, 1.5, 0.5), (0, 2.5, 1.5)]\n",
      "Parsed Z: []\n",
      "----------------\n",
      "Decoder results (sim):\n",
      "Physical Qubit: (0.0, 2.0)\n",
      "Error: X at time: 0\n",
      "Physical Qubit: (2.0, 1.0)\n",
      "Error: X at time: 0\n",
      "{(0.0, 2.0): array([[0, 1],\n",
      "       [1, 0]]), (2.0, 1.0): array([[0, 1],\n",
      "       [1, 0]])}\n",
      "----------------\n",
      "Decoder results:\n",
      "Physical Qubit: (0.0, 2.0)\n",
      "Error: X at time: 0\n",
      "Physical Qubit: (2.0, 1.0)\n",
      "Error: X at time: 0\n",
      "{(0.0, 2.0): array([[0, 1],\n",
      "       [1, 0]]), (2.0, 1.0): array([[0, 1],\n",
      "       [1, 0]])}\n",
      "============= \n",
      "\n",
      "====Run 9 ====\n",
      "Raw readout: {'110110110 00100100': 1}\n",
      "Parsed X: [(0, 0.5, 1.5), (0, 1.5, 0.5)]\n",
      "Parsed Z: []\n",
      "----------------\n",
      "Decoder results (sim):\n",
      "Physical Qubit: (1.0, 1.0)\n",
      "Error: X at time: 0\n",
      "{(1.0, 1.0): array([[0, 1],\n",
      "       [1, 0]])}\n",
      "----------------\n",
      "Decoder results:\n",
      "Physical Qubit: (1.0, 1.0)\n",
      "Error: X at time: 0\n",
      "{(1.0, 1.0): array([[0, 1],\n",
      "       [1, 0]])}\n",
      "============= \n",
      "\n"
     ]
    }
   ],
   "source": [
    "for i in range(10):\n",
    "    print(\"====Run\", i, \"====\")\n",
    "    full_loop(code, decoder1, decoder2)\n",
    "    print(\"=============\", \"\\n\")"
   ]
  },
  {
   "cell_type": "markdown",
   "metadata": {},
   "source": [
    "And now run with some noise:"
   ]
  },
  {
   "cell_type": "code",
   "execution_count": null,
   "metadata": {
    "scrolled": true,
    "tags": []
   },
   "outputs": [],
   "source": [
    "for i in range(10):\n",
    "    print(\"====Run\", i, \"====\")\n",
    "    full_loop(code, decoder1, decoder2, noise_model=get_noise(0.5))\n",
    "    print(\"=============\", \"\\n\")"
   ]
  }
 ],
 "metadata": {
  "kernelspec": {
   "display_name": "Python 3.7.7 64-bit ('.venv': venv)",
   "language": "python",
   "name": "python37764bitvenvvenv7408d8b88faf4c5294f43086f1dc80f8"
  },
  "language_info": {
   "codemirror_mode": {
    "name": "ipython",
    "version": 3
   },
   "file_extension": ".py",
   "mimetype": "text/x-python",
   "name": "python",
   "nbconvert_exporter": "python",
   "pygments_lexer": "ipython3",
   "version": "3.7.7"
  }
 },
 "nbformat": 4,
 "nbformat_minor": 2
}
