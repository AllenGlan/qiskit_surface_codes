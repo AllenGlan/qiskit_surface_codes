{
 "cells": [
  {
   "cell_type": "markdown",
   "metadata": {},
   "source": [
    "# Simulation and Noise Models"
   ]
  },
  {
   "cell_type": "code",
   "execution_count": 2,
   "metadata": {
    "tags": []
   },
   "outputs": [
    {
     "name": "stdout",
     "output_type": "stream",
     "text": [
      "The autoreload extension is already loaded. To reload it, use:\n",
      "  %reload_ext autoreload\n"
     ]
    }
   ],
   "source": [
    "%load_ext autoreload\n",
    "%autoreload 2"
   ]
  },
  {
   "cell_type": "code",
   "execution_count": 3,
   "metadata": {},
   "outputs": [],
   "source": [
    "import sys\n",
    "sys.path.insert(0, '../')"
   ]
  },
  {
   "cell_type": "markdown",
   "metadata": {},
   "source": [
    "We can set up a noise model, following the [Qiskit textbook](https://qiskit.org/textbook/ch-quantum-hardware/error-correction-repetition-code.html#Correcting-errors-in-qubits). We define our noise model to have equal chances of X and Z:"
   ]
  },
  {
   "cell_type": "code",
   "execution_count": 4,
   "metadata": {},
   "outputs": [],
   "source": [
    "from qiskit.providers.aer.noise import NoiseModel\n",
    "from qiskit.providers.aer.noise.errors import pauli_error, depolarizing_error\n",
    "\n",
    "def get_noise(p_err):\n",
    "\n",
    "    error_gate1 = pauli_error([('X', p_err/2), ('Z', p_err/2), ('I', 1 - p_err)])\n",
    "    error_gate2 = error_gate1.tensor(error_gate1)\n",
    "\n",
    "    noise_model = NoiseModel()\n",
    "    noise_model.add_all_qubit_quantum_error(error_gate1, \"measure\") # measurement error is applied to measurements\n",
    "    noise_model.add_all_qubit_quantum_error(error_gate1, [\"u1\", \"u2\", \"u3\"]) # single qubit gate error is applied to x gates\n",
    "    noise_model.add_all_qubit_quantum_error(error_gate2, [\"cx\"]) # two qubit gate error is applied to cx gates\n",
    "        \n",
    "    return noise_model"
   ]
  },
  {
   "cell_type": "code",
   "execution_count": 5,
   "metadata": {},
   "outputs": [],
   "source": [
    "from qiskit import execute, Aer\n",
    "from surface_code.circuits import SurfaceCode\n",
    "from surface_code.fitters import GraphDecoder"
   ]
  },
  {
   "cell_type": "markdown",
   "metadata": {},
   "source": [
    "We set up a test harness to run through some examples:"
   ]
  },
  {
   "cell_type": "code",
   "execution_count": 8,
   "metadata": {
    "tags": []
   },
   "outputs": [],
   "source": [
    "def full_loop(code, decoder_simulated, decoder_analytic, noise_model=None):\n",
    "    # noise_model = get_noise(0.01)\n",
    "    counts = execute(code.circuit['0'], Aer.get_backend('qasm_simulator'), shots=1, noise_model=noise_model).result().get_counts()\n",
    "    X_errors, Z_errors = code.extract_nodes(code.process_results(counts))\n",
    "\n",
    "    print(\"Raw readout:\", counts)\n",
    "    print(\"Parsed X:\", X_errors)\n",
    "    print(\"Parsed Z:\", Z_errors)\n",
    "    \n",
    "    # Analytic Decoder\n",
    "    flips = {}\n",
    "    for error_key,errors in dict(zip((\"X\", \"Z\"), (X_errors,Z_errors))).items():\n",
    "        if errors:\n",
    "            error_graph, paths = decoder_analytic.make_error_graph(errors, error_key)\n",
    "            matching_graph = decoder_analytic.matching_graph(error_graph,error_key)\n",
    "            matches = decoder_analytic.matching(matching_graph,error_key)\n",
    "            flips[error_key] = decoder_analytic.calculate_qubit_flips(matches, paths,error_key)\n",
    "        else:\n",
    "            flips[error_key] = {}\n",
    "    print(\"----------------\")\n",
    "    print(\"Decoder results (analytic):\")\n",
    "    print(decoder_analytic.net_qubit_flips(flips[\"X\"], flips[\"Z\"]))\n",
    "\n",
    "    \n",
    "    # Simulated Decoder \n",
    "    flips = {}\n",
    "    for error_key,errors in dict(zip((\"X\", \"Z\"), (X_errors,Z_errors))).items():\n",
    "        if errors:\n",
    "            error_graph = decoder_simulated.make_error_graph(errors, error_key)#when using a simulated syndrome graph, make_error_graph will only return error_graph\n",
    "            matching_graph = decoder_simulated.matching_graph(error_graph,error_key)\n",
    "            matches = decoder_simulated.matching(matching_graph,error_key)\n",
    "            paths = decoder_simulated.analytic_paths(matches,error_key) #simulated syndrome graph does not have nearest neighbor edges that allow for proper error chain determination\n",
    "            flips[error_key] = decoder_simulated.calculate_qubit_flips(matches, paths,error_key)\n",
    "        else:\n",
    "            flips[error_key] = {}\n",
    "    print(\"----------------\")\n",
    "    print(\"Decoder results (simulated):\")\n",
    "    print(decoder_simulated.net_qubit_flips(flips[\"X\"], flips[\"Z\"]))"
   ]
  },
  {
   "cell_type": "code",
   "execution_count": 9,
   "metadata": {},
   "outputs": [],
   "source": [
    "code = SurfaceCode(3, 3)\n",
    "decoder_simulated = GraphDecoder(3, 3, simulation=True)\n",
    "decoder_analytic = GraphDecoder(3, 3)"
   ]
  },
  {
   "cell_type": "markdown",
   "metadata": {},
   "source": [
    "We can compare `decoder1`, the syndrome graph from simulation, with `decoder2`, the analytic graph:"
   ]
  },
  {
   "cell_type": "code",
   "execution_count": 10,
   "metadata": {
    "scrolled": false,
    "tags": []
   },
   "outputs": [
    {
     "name": "stdout",
     "output_type": "stream",
     "text": [
      "====Run 0 ====\n",
      "Raw readout: {'011101101 00100100 00100100 00100100': 1}\n",
      "Parsed X: []\n",
      "Parsed Z: []\n",
      "----------------\n",
      "Decoder results (analytic):\n",
      "{}\n",
      "----------------\n",
      "Decoder results (simulated):\n",
      "{}\n",
      "============= \n",
      "\n",
      "====Run 1 ====\n",
      "Raw readout: {'110110110 00000001 00000001 00000001': 1}\n",
      "Parsed X: []\n",
      "Parsed Z: []\n",
      "----------------\n",
      "Decoder results (analytic):\n",
      "{}\n",
      "----------------\n",
      "Decoder results (simulated):\n",
      "{}\n",
      "============= \n",
      "\n",
      "====Run 2 ====\n",
      "Raw readout: {'101011000 10000101 10000101 10000101': 1}\n",
      "Parsed X: []\n",
      "Parsed Z: []\n",
      "----------------\n",
      "Decoder results (analytic):\n",
      "{}\n",
      "----------------\n",
      "Decoder results (simulated):\n",
      "{}\n",
      "============= \n",
      "\n",
      "====Run 3 ====\n",
      "Raw readout: {'011011000 00100100 00100100 00100100': 1}\n",
      "Parsed X: []\n",
      "Parsed Z: []\n",
      "----------------\n",
      "Decoder results (analytic):\n",
      "{}\n",
      "----------------\n",
      "Decoder results (simulated):\n",
      "{}\n",
      "============= \n",
      "\n",
      "====Run 4 ====\n",
      "Raw readout: {'000000000 00000000 00000000 00000000': 1}\n",
      "Parsed X: []\n",
      "Parsed Z: []\n",
      "----------------\n",
      "Decoder results (analytic):\n",
      "{}\n",
      "----------------\n",
      "Decoder results (simulated):\n",
      "{}\n",
      "============= \n",
      "\n",
      "====Run 5 ====\n",
      "Raw readout: {'101011000 10100100 10100100 10100100': 1}\n",
      "Parsed X: []\n",
      "Parsed Z: []\n",
      "----------------\n",
      "Decoder results (analytic):\n",
      "{}\n",
      "----------------\n",
      "Decoder results (simulated):\n",
      "{}\n",
      "============= \n",
      "\n",
      "====Run 6 ====\n",
      "Raw readout: {'000110110 00100001 00100001 00100001': 1}\n",
      "Parsed X: []\n",
      "Parsed Z: []\n",
      "----------------\n",
      "Decoder results (analytic):\n",
      "{}\n",
      "----------------\n",
      "Decoder results (simulated):\n",
      "{}\n",
      "============= \n",
      "\n",
      "====Run 7 ====\n",
      "Raw readout: {'000000000 00100001 00100001 00100001': 1}\n",
      "Parsed X: []\n",
      "Parsed Z: []\n",
      "----------------\n",
      "Decoder results (analytic):\n",
      "{}\n",
      "----------------\n",
      "Decoder results (simulated):\n",
      "{}\n",
      "============= \n",
      "\n",
      "====Run 8 ====\n",
      "Raw readout: {'011101110 00100100 00100100 00100100': 1}\n",
      "Parsed X: []\n",
      "Parsed Z: []\n",
      "----------------\n",
      "Decoder results (analytic):\n",
      "{}\n",
      "----------------\n",
      "Decoder results (simulated):\n",
      "{}\n",
      "============= \n",
      "\n",
      "====Run 9 ====\n",
      "Raw readout: {'110000011 10100000 10100000 10100000': 1}\n",
      "Parsed X: []\n",
      "Parsed Z: []\n",
      "----------------\n",
      "Decoder results (analytic):\n",
      "{}\n",
      "----------------\n",
      "Decoder results (simulated):\n",
      "{}\n",
      "============= \n",
      "\n"
     ]
    }
   ],
   "source": [
    "for i in range(10):\n",
    "    print(\"====Run\", i, \"====\")\n",
    "    full_loop(code, decoder_simulated, decoder_analytic)\n",
    "    print(\"=============\", \"\\n\")"
   ]
  },
  {
   "cell_type": "markdown",
   "metadata": {},
   "source": [
    "And now run with some noise:"
   ]
  },
  {
   "cell_type": "code",
   "execution_count": 19,
   "metadata": {
    "scrolled": false,
    "tags": []
   },
   "outputs": [
    {
     "name": "stdout",
     "output_type": "stream",
     "text": [
      "====Run 0 ====\n",
      "Raw readout: {'101100111 10011010 10000001 10000000': 1}\n",
      "Parsed X: [(1, 2.5, 1.5), (2, 2.5, 1.5)]\n",
      "Parsed Z: [(2, 0.5, 2.5), (2, 1.5, -0.5), (2, 1.5, 1.5)]\n",
      "----------------\n",
      "Decoder results (analytic):\n",
      "{(2.0, 0.0): array([[ 1,  0],\n",
      "       [ 0, -1]]), (1.0, 2.0): array([[ 1,  0],\n",
      "       [ 0, -1]])}\n",
      "----------------\n",
      "Decoder results (simulated):\n",
      "{(2.0, 0.0): array([[ 1,  0],\n",
      "       [ 0, -1]]), (1.0, 2.0): array([[ 1,  0],\n",
      "       [ 0, -1]])}\n",
      "============= \n",
      "\n",
      "====Run 1 ====\n",
      "Raw readout: {'110101011 00111011 00111111 00101011': 1}\n",
      "Parsed X: [(1, 1.5, 0.5), (2, 1.5, 0.5)]\n",
      "Parsed Z: [(1, 0.5, 2.5)]\n",
      "----------------\n",
      "Decoder results (analytic):\n",
      "{(0.0, 2.0): array([[ 1,  0],\n",
      "       [ 0, -1]])}\n",
      "----------------\n",
      "Decoder results (simulated):\n",
      "{(0.0, 2.0): array([[ 1,  0],\n",
      "       [ 0, -1]])}\n",
      "============= \n",
      "\n",
      "====Run 2 ====\n",
      "Raw readout: {'101000011 10010101 10110100 10000001': 1}\n",
      "Parsed X: [(1, 0.5, 1.5), (1, 1.5, 0.5), (1, 2.5, 1.5), (2, 0.5, 1.5), (2, 2.5, 1.5)]\n",
      "Parsed Z: [(1, 0.5, 2.5)]\n",
      "----------------\n",
      "Decoder results (analytic):\n",
      "{(2.0, 1.0): array([[0, 1],\n",
      "       [1, 0]]), (2.0, 2.0): array([[0, 1],\n",
      "       [1, 0]]), (0.0, 2.0): array([[ 1,  0],\n",
      "       [ 0, -1]])}\n",
      "----------------\n",
      "Decoder results (simulated):\n",
      "{(2.0, 1.0): array([[0, 1],\n",
      "       [1, 0]]), (2.0, 2.0): array([[0, 1],\n",
      "       [1, 0]]), (0.0, 2.0): array([[ 1,  0],\n",
      "       [ 0, -1]])}\n",
      "============= \n",
      "\n",
      "====Run 3 ====\n",
      "Raw readout: {'100011101 01110110 00110001 00101001': 1}\n",
      "Parsed X: [(2, 1.5, 0.5), (2, 2.5, 1.5)]\n",
      "Parsed Z: [(1, 0.5, 2.5), (1, 1.5, -0.5), (2, 0.5, 0.5), (2, 1.5, 1.5)]\n",
      "----------------\n",
      "Decoder results (analytic):\n",
      "{(2.0, 1.0): array([[0, 1],\n",
      "       [1, 0]]), (0.0, 2.0): array([[ 1,  0],\n",
      "       [ 0, -1]]), (1.0, 1.0): array([[ 1,  0],\n",
      "       [ 0, -1]]), (2.0, 0.0): array([[ 1,  0],\n",
      "       [ 0, -1]])}\n",
      "----------------\n",
      "Decoder results (simulated):\n",
      "{(2.0, 1.0): array([[0, 1],\n",
      "       [1, 0]]), (1.0, 2.0): array([[ 1,  0],\n",
      "       [ 0, -1]]), (1.0, 0.0): array([[ 1,  0],\n",
      "       [ 0, -1]])}\n",
      "============= \n",
      "\n",
      "====Run 4 ====\n",
      "Raw readout: {'110100101 11000110 00100100 00101110': 1}\n",
      "Parsed X: [(2, -0.5, 0.5), (2, 0.5, 1.5)]\n",
      "Parsed Z: [(1, 1.5, -0.5), (1, 1.5, 1.5), (2, 0.5, 0.5), (2, 1.5, 1.5)]\n",
      "----------------\n",
      "Decoder results (analytic):\n",
      "{(0.0, 1.0): array([[0, 1],\n",
      "       [1, 0]]), (1.0, 0.0): array([[ 1,  0],\n",
      "       [ 0, -1]])}\n",
      "----------------\n",
      "Decoder results (simulated):\n",
      "{(0.0, 1.0): array([[0, 1],\n",
      "       [1, 0]]), (1.0, 0.0): array([[ 1,  0],\n",
      "       [ 0, -1]])}\n",
      "============= \n",
      "\n",
      "====Run 5 ====\n",
      "Raw readout: {'001100101 01110010 10010000 11110000': 1}\n",
      "Parsed X: [(1, 0.5, 1.5), (2, -0.5, 0.5), (2, 0.5, 1.5)]\n",
      "Parsed Z: [(1, 0.5, 0.5), (2, 0.5, 0.5), (2, 1.5, 1.5)]\n",
      "----------------\n",
      "Decoder results (analytic):\n",
      "{(0.0, 1.0): array([[0, 1],\n",
      "       [1, 0]]), (0.0, 2.0): array([[0, 1],\n",
      "       [1, 0]]), (0.0, 0.0): array([[ 1,  0],\n",
      "       [ 0, -1]]), (1.0, 1.0): array([[ 1,  0],\n",
      "       [ 0, -1]])}\n",
      "----------------\n",
      "Decoder results (simulated):\n",
      "{(0.0, 1.0): array([[0, 1],\n",
      "       [1, 0]]), (0.0, 2.0): array([[0, 1],\n",
      "       [1, 0]]), (0.0, 0.0): array([[ 1,  0],\n",
      "       [ 0, -1]]), (1.0, 1.0): array([[ 1,  0],\n",
      "       [ 0, -1]])}\n",
      "============= \n",
      "\n",
      "====Run 6 ====\n",
      "Raw readout: {'110100111 11010001 01001101 00000110': 1}\n",
      "Parsed X: [(1, 2.5, 1.5), (2, -0.5, 0.5), (2, 1.5, 0.5)]\n",
      "Parsed Z: [(1, 0.5, 0.5), (1, 1.5, -0.5), (1, 1.5, 1.5), (2, 0.5, 2.5), (2, 1.5, -0.5)]\n",
      "----------------\n",
      "Decoder results (analytic):\n",
      "{(2.0, 1.0): array([[0, 1],\n",
      "       [1, 0]]), (0.0, 0.0): array([[0, 1],\n",
      "       [1, 0]]), (1.0, 1.0): array([[ 1,  0],\n",
      "       [ 0, -1]]), (0.0, 2.0): array([[ 1,  0],\n",
      "       [ 0, -1]])}\n",
      "----------------\n",
      "Decoder results (simulated):\n",
      "{(2.0, 1.0): array([[0, 1],\n",
      "       [1, 0]]), (0.0, 0.0): array([[ 0,  1],\n",
      "       [-1,  0]]), (1.0, 2.0): array([[ 1,  0],\n",
      "       [ 0, -1]])}\n",
      "============= \n",
      "\n",
      "====Run 7 ====\n",
      "Raw readout: {'110110110 00000101 00010100 00010011': 1}\n",
      "Parsed X: [(1, 1.5, 0.5), (1, 2.5, 1.5), (2, 2.5, 1.5)]\n",
      "Parsed Z: [(1, 1.5, 1.5), (2, 0.5, 2.5)]\n",
      "----------------\n",
      "Decoder results (analytic):\n",
      "{(1.0, 0.0): array([[0, 1],\n",
      "       [1, 0]]), (1.0, 2.0): array([[ 1,  0],\n",
      "       [ 0, -1]])}\n",
      "----------------\n",
      "Decoder results (simulated):\n",
      "{(1.0, 0.0): array([[0, 1],\n",
      "       [1, 0]]), (1.0, 2.0): array([[ 1,  0],\n",
      "       [ 0, -1]])}\n",
      "============= \n",
      "\n",
      "====Run 8 ====\n",
      "Raw readout: {'001101111 11010100 10110110 01100111': 1}\n",
      "Parsed X: [(1, -0.5, 0.5), (1, 2.5, 1.5), (2, 0.5, 1.5)]\n",
      "Parsed Z: [(1, 0.5, 0.5), (1, 0.5, 2.5), (2, 0.5, 0.5), (2, 1.5, 1.5)]\n",
      "----------------\n",
      "Decoder results (analytic):\n",
      "{(2.0, 2.0): array([[0, 1],\n",
      "       [1, 0]]), (0.0, 1.0): array([[0, 1],\n",
      "       [1, 0]]), (1.0, 2.0): array([[ 1,  0],\n",
      "       [ 0, -1]])}\n",
      "----------------\n",
      "Decoder results (simulated):\n",
      "{(2.0, 2.0): array([[0, 1],\n",
      "       [1, 0]]), (0.0, 1.0): array([[0, 1],\n",
      "       [1, 0]]), (1.0, 2.0): array([[ 1,  0],\n",
      "       [ 0, -1]])}\n",
      "============= \n",
      "\n",
      "====Run 9 ====\n",
      "Raw readout: {'110010000 01000010 01000010 11000010': 1}\n",
      "Parsed X: [(1, -0.5, 0.5)]\n",
      "Parsed Z: []\n",
      "----------------\n",
      "Decoder results (analytic):\n",
      "{(0.0, 0.0): array([[0, 1],\n",
      "       [1, 0]])}\n",
      "----------------\n",
      "Decoder results (simulated):\n",
      "{(0.0, 0.0): array([[0, 1],\n",
      "       [1, 0]])}\n",
      "============= \n",
      "\n"
     ]
    }
   ],
   "source": [
    "for i in range(10):\n",
    "    print(\"====Run\", i, \"====\")\n",
    "    full_loop(code, decoder_simulated, decoder_analytic, noise_model=get_noise(0.05))\n",
    "    print(\"=============\", \"\\n\")"
   ]
  },
  {
   "cell_type": "markdown",
   "metadata": {},
   "source": [
    "# Logical Error Rate Graphs"
   ]
  },
  {
   "cell_type": "code",
   "execution_count": 6,
   "metadata": {},
   "outputs": [],
   "source": [
    "from surface_code.benchmarking import SurfaceCodeBenchmarkingTool"
   ]
  },
  {
   "cell_type": "code",
   "execution_count": 9,
   "metadata": {},
   "outputs": [
    {
     "data": {
      "text/plain": [
       "0.0"
      ]
     },
     "execution_count": 9,
     "metadata": {},
     "output_type": "execute_result"
    }
   ],
   "source": [
    "decoder = GraphDecoder(5,3) \n",
    "tool = SurfaceCodeBenchmarkingTool()\n",
    "tool.logical_error_rate(decoder, {\"1 00000000 00000000\":40}, 1)"
   ]
  },
  {
   "cell_type": "code",
   "execution_count": 10,
   "metadata": {},
   "outputs": [],
   "source": [
    "from qiskit import QuantumCircuit, execute, QuantumRegister, ClassicalRegister, Aer\n",
    "\n",
    "data = QuantumRegister(9, name='data')\n",
    "mx = QuantumRegister(4, name='mx')\n",
    "mz = QuantumRegister(4, name='mz')\n",
    "\n",
    "rounds=2  # The actual number of rounds will always be more than 1, since the first round creates the quiescent state\n",
    "measurements = [ClassicalRegister(8, name=\"c{}\".format(i+1)) for i in range(rounds + 1)]\n",
    "logical = QuantumRegister(1, name=\"logical\")\n",
    "\n",
    "base_circ = QuantumCircuit(data, mz, mx, *measurements, logical)\n",
    "\n",
    "def stabilize(circ, i):\n",
    "    # Top left\n",
    "    circ.h(mx[0])\n",
    "    circ.cx(mx[0], data[1])\n",
    "    circ.cx(mx[0], data[0])\n",
    "    circ.cx(data[1], mz[0])\n",
    "    circ.cx(data[0], mz[0])\n",
    "    circ.cx(data[4], mz[0])\n",
    "    circ.cx(data[3], mz[0])\n",
    "    circ.h(mx[0])\n",
    "    \n",
    "    # Top right\n",
    "    circ.h(mx[1])\n",
    "    circ.cx(mx[1], data[2])\n",
    "    circ.cx(mx[1], data[1])\n",
    "    circ.cx(mx[1], data[5])\n",
    "    circ.cx(mx[1], data[4])\n",
    "    circ.cx(data[2],mz[1])\n",
    "    circ.cx(data[5],mz[1])\n",
    "    circ.h(mx[1])\n",
    "    \n",
    "    # Bottom left\n",
    "    circ.h(mx[2])\n",
    "    circ.cx(data[3], mz[2])\n",
    "    circ.cx(data[6], mz[2])\n",
    "    circ.cx(mx[2], data[4])\n",
    "    circ.cx(mx[2], data[3])\n",
    "    circ.cx(mx[2], data[7])\n",
    "    circ.cx(mx[2], data[6])\n",
    "    circ.h(mx[2])\n",
    "\n",
    "    # Bottom right\n",
    "    circ.h(mx[3])\n",
    "    circ.cx(mx[3], data[8])\n",
    "    circ.cx(mx[3], data[7])\n",
    "    circ.cx(data[5], mz[3])\n",
    "    circ.cx(data[4], mz[3])\n",
    "    circ.cx(data[8], mz[3])\n",
    "    circ.cx(data[7], mz[3])\n",
    "    circ.h(mx[3])\n",
    "    circ.barrier()\n",
    "\n",
    "    circ.measure(mz, measurements[i][0:4])\n",
    "    circ.measure(mx, measurements[i][4:8])\n",
    "    circ.reset(mz)\n",
    "    circ.reset(mx)\n",
    "    circ.barrier()\n",
    "\n",
    "def get_stabilized_circ(base_circuit, rounds):\n",
    "    circ = base_circuit.copy()\n",
    "    for i in range(rounds + 1):\n",
    "        stabilize(circ, i)\n",
    "    return circ"
   ]
  },
  {
   "cell_type": "code",
   "execution_count": 11,
   "metadata": {},
   "outputs": [
    {
     "data": {
      "text/plain": [
       "<qiskit.circuit.instructionset.InstructionSet at 0x1292c8c10>"
      ]
     },
     "execution_count": 11,
     "metadata": {},
     "output_type": "execute_result"
    }
   ],
   "source": [
    "circ = get_stabilized_circ(base_circ, rounds)\n",
    "logical_zero = circ.copy()\n",
    "\n",
    "logical_readout = ClassicalRegister(1, name=\"logicalR\")\n",
    "logical_zero.add_register(logical_readout)\n",
    "\n",
    "# The Z-logical readout\n",
    "logical_zero.reset(logical)\n",
    "logical_zero.cx(data[0], logical)\n",
    "logical_zero.cx(data[1], logical)\n",
    "logical_zero.cx(data[2], logical)\n",
    "logical_zero.measure(logical, logical_readout)"
   ]
  },
  {
   "cell_type": "code",
   "execution_count": 17,
   "metadata": {},
   "outputs": [],
   "source": [
    "logical = []\n",
    "noise = [5e-5, 1e-4, 2e-4, 5e-4, 1e-3, 2e-3, 4e-3, 5e-3, 6e-3, 7e-3, 8e-3, 9e-3, 1e-2, 2e-2]\n",
    "for rate in noise:\n",
    "    results = execute(logical_zero, Aer.get_backend('qasm_simulator'), noise_model=get_noise(rate), shots=1024).result().get_counts()\n",
    "    logical.append(tool.logical_error_rate(decoder, results, 0))"
   ]
  },
  {
   "cell_type": "code",
   "execution_count": 18,
   "metadata": {},
   "outputs": [
    {
     "data": {
      "image/png": "[encoded data removed]",
      "text/plain": [
       "<Figure size 432x288 with 1 Axes>"
      ]
     },
     "metadata": {
      "needs_background": "light"
     },
     "output_type": "display_data"
    }
   ],
   "source": [
    "import matplotlib.pyplot as plt\n",
    "plt.plot(noise, logical)\n",
    "plt.yscale(\"log\")\n",
    "plt.xscale(\"log\")"
   ]
  },
  {
   "cell_type": "code",
   "execution_count": 19,
   "metadata": {},
   "outputs": [
    {
     "data": {
      "text/plain": [
       "[0.0,\n",
       " 0.0029296875,\n",
       " 0.0078125,\n",
       " 0.0263671875,\n",
       " 0.0478515625,\n",
       " 0.1064453125,\n",
       " 0.1513671875,\n",
       " 0.17578125,\n",
       " 0.2275390625,\n",
       " 0.255859375,\n",
       " 0.27734375,\n",
       " 0.25390625,\n",
       " 0.30078125,\n",
       " 0.408203125]"
      ]
     },
     "execution_count": 19,
     "metadata": {},
     "output_type": "execute_result"
    }
   ],
   "source": [
    "logical"
   ]
  },
  {
   "cell_type": "code",
   "execution_count": null,
   "metadata": {},
   "outputs": [],
   "source": []
  }
 ],
 "metadata": {
  "kernelspec": {
   "display_name": "Python 3",
   "language": "python",
   "name": "python3"
  },
  "language_info": {
   "codemirror_mode": {
    "name": "ipython",
    "version": 3
   },
   "file_extension": ".py",
   "mimetype": "text/x-python",
   "name": "python",
   "nbconvert_exporter": "python",
   "pygments_lexer": "ipython3",
   "version": "3.8.4"
  }
 },
 "nbformat": 4,
 "nbformat_minor": 2
}
